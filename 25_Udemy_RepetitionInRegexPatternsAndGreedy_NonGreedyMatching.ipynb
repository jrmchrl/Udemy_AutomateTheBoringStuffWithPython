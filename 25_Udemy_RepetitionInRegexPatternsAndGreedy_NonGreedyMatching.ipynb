{
 "cells": [
  {
   "cell_type": "code",
   "execution_count": 30,
   "metadata": {},
   "outputs": [
    {
     "data": {
      "text/plain": [
       "'Batman'"
      ]
     },
     "execution_count": 30,
     "metadata": {},
     "output_type": "execute_result"
    }
   ],
   "source": [
    "import re\r\n",
    "\r\n",
    "# ? means match the preceding group zero or one times\r\n",
    "\r\n",
    "batRegex = re.compile(r'Bat(wo)?man')\r\n",
    "mo = batRegex.search('The Adventures of Batman')\r\n",
    "mo.group()\r\n"
   ]
  },
  {
   "cell_type": "code",
   "execution_count": 31,
   "metadata": {},
   "outputs": [
    {
     "data": {
      "text/plain": [
       "'Batwoman'"
      ]
     },
     "execution_count": 31,
     "metadata": {},
     "output_type": "execute_result"
    }
   ],
   "source": [
    "mo = batRegex.search('The Adventures of Batwoman')\r\n",
    "mo.group()"
   ]
  },
  {
   "cell_type": "code",
   "execution_count": 32,
   "metadata": {},
   "outputs": [
    {
     "data": {
      "text/plain": [
       "True"
      ]
     },
     "execution_count": 32,
     "metadata": {},
     "output_type": "execute_result"
    }
   ],
   "source": [
    "mo = batRegex.search('The Adventures of Batwowowowowowoman')\r\n",
    "mo == None\r\n",
    "#returns none because the result doesnt match the search pattern, we actually have more than 1*wo"
   ]
  },
  {
   "cell_type": "code",
   "execution_count": 33,
   "metadata": {},
   "outputs": [
    {
     "data": {
      "text/plain": [
       "'415-555-1234'"
      ]
     },
     "execution_count": 33,
     "metadata": {},
     "output_type": "execute_result"
    }
   ],
   "source": [
    "phoneRegex = re.compile(r'\\d\\d\\d-\\d\\d\\d-\\d\\d\\d\\d')\r\n",
    "mo = phoneRegex.search('My phone number is 415-555-1234. Call me tomorrow.')\r\n",
    "mo.group()"
   ]
  },
  {
   "cell_type": "code",
   "execution_count": 34,
   "metadata": {},
   "outputs": [
    {
     "data": {
      "text/plain": [
       "True"
      ]
     },
     "execution_count": 34,
     "metadata": {},
     "output_type": "execute_result"
    }
   ],
   "source": [
    "mo = phoneRegex.search('My phone number is 555-1234. Call me tomorrow.')\r\n",
    "mo == None"
   ]
  },
  {
   "cell_type": "code",
   "execution_count": 35,
   "metadata": {},
   "outputs": [
    {
     "data": {
      "text/plain": [
       "<re.Match object; span=(19, 27), match='555-1234'>"
      ]
     },
     "execution_count": 35,
     "metadata": {},
     "output_type": "execute_result"
    }
   ],
   "source": [
    "phoneRegex = re.compile(r'(\\d\\d\\d-)?\\d\\d\\d-\\d\\d\\d\\d')\r\n",
    "phoneRegex.search('My phone number is 555-1234. Call me tomorrow.')"
   ]
  },
  {
   "cell_type": "code",
   "execution_count": 36,
   "metadata": {},
   "outputs": [],
   "source": [
    "# \\?     if you have to search actual questionmark"
   ]
  },
  {
   "cell_type": "code",
   "execution_count": 37,
   "metadata": {},
   "outputs": [
    {
     "data": {
      "text/plain": [
       "<re.Match object; span=(18, 24), match='Batman'>"
      ]
     },
     "execution_count": 37,
     "metadata": {},
     "output_type": "execute_result"
    }
   ],
   "source": [
    "# *  charakter is called star-character, means match zero or more times\r\n",
    "\r\n",
    "batRegex = re.compile(r'Bat(wo)*man')\r\n",
    "batRegex.search('The Adventures of Batman')\r\n"
   ]
  },
  {
   "cell_type": "code",
   "execution_count": 38,
   "metadata": {},
   "outputs": [
    {
     "data": {
      "text/plain": [
       "<re.Match object; span=(18, 26), match='Batwoman'>"
      ]
     },
     "execution_count": 38,
     "metadata": {},
     "output_type": "execute_result"
    }
   ],
   "source": [
    "batRegex.search('The Adventures of Batwoman')"
   ]
  },
  {
   "cell_type": "code",
   "execution_count": 39,
   "metadata": {},
   "outputs": [],
   "source": [
    "batRegex.search('The Adventures of Batwowowowowowowowowman')"
   ]
  },
  {
   "cell_type": "code",
   "execution_count": 40,
   "metadata": {},
   "outputs": [],
   "source": [
    "#if you have to match literal star --> \\*"
   ]
  },
  {
   "cell_type": "code",
   "execution_count": 41,
   "metadata": {},
   "outputs": [
    {
     "data": {
      "text/plain": [
       "True"
      ]
     },
     "execution_count": 41,
     "metadata": {},
     "output_type": "execute_result"
    }
   ],
   "source": [
    "# + means match one or more  # if you have to search for + use \\+\r\n",
    "\r\n",
    "batRegex = re.compile(r'Bat(wo)+man')\r\n",
    "batRegex.search('The Adventures of Batman')\r\n",
    "batRegex.search('The Adventures of Batman') == None"
   ]
  },
  {
   "cell_type": "code",
   "execution_count": 42,
   "metadata": {},
   "outputs": [
    {
     "data": {
      "text/plain": [
       "<re.Match object; span=(10, 13), match='+*?'>"
      ]
     },
     "execution_count": 42,
     "metadata": {},
     "output_type": "execute_result"
    }
   ],
   "source": [
    "regex = re.compile(r'\\+\\*\\?')\r\n",
    "regex.search('I learned +*? regex syntax')\r\n"
   ]
  },
  {
   "cell_type": "code",
   "execution_count": 43,
   "metadata": {},
   "outputs": [
    {
     "data": {
      "text/plain": [
       "<re.Match object; span=(9, 15), match='HaHaHa'>"
      ]
     },
     "execution_count": 43,
     "metadata": {},
     "output_type": "execute_result"
    }
   ],
   "source": [
    "# {x} --> exactly\r\n",
    "\r\n",
    "haRegex = re.compile(r'(Ha){3}')\r\n",
    "haRegex.search('He said \"HaHaHa\"')\r\n"
   ]
  },
  {
   "cell_type": "code",
   "execution_count": 44,
   "metadata": {},
   "outputs": [
    {
     "data": {
      "text/plain": [
       "<re.Match object; span=(15, 53), match='415-555-2345,345-678-3567,234-678-1234'>"
      ]
     },
     "execution_count": 44,
     "metadata": {},
     "output_type": "execute_result"
    }
   ],
   "source": [
    "phoneRegex = re.compile(r'((\\d\\d\\d-)?\\d\\d\\d-\\d\\d\\d\\d(,)?){3}')\r\n",
    "phoneRegex.search('My numbers are 415-555-2345,345-678-3567,234-678-1234')"
   ]
  },
  {
   "cell_type": "code",
   "execution_count": 45,
   "metadata": {},
   "outputs": [],
   "source": [
    "haRegex = re.compile(r'(Ha) {3,5}')\r\n",
    "haRegex.search('He said \"HaHaHaHaHa\"')\r\n",
    "\r\n",
    "#finds inbetween 3-5 \"Ha's\", if second number after comma not mentioned indefinite number sought\r\n"
   ]
  },
  {
   "cell_type": "code",
   "execution_count": 46,
   "metadata": {},
   "outputs": [],
   "source": [
    "digitRegex = re.compile(r'(\\d) {3,5}')\r\n",
    "digitRegex.search('1234567890')  #greedy search - returns first five digits of string which is '12345'"
   ]
  },
  {
   "cell_type": "code",
   "execution_count": 47,
   "metadata": {},
   "outputs": [],
   "source": [
    "digitRegex = re.compile(r'(\\d) {3,5}?')\r\n",
    "digitRegex.search('1234567890') #nongreedy match  -- matches smallest string which is '123'"
   ]
  }
 ],
 "metadata": {
  "interpreter": {
   "hash": "483cab17ea47bf3dc62612f79753baa304c994dab11b0cb1ba24b5d79c042b44"
  },
  "kernelspec": {
   "display_name": "Python 3.8.3 64-bit ('base': conda)",
   "name": "python3"
  },
  "language_info": {
   "codemirror_mode": {
    "name": "ipython",
    "version": 3
   },
   "file_extension": ".py",
   "mimetype": "text/x-python",
   "name": "python",
   "nbconvert_exporter": "python",
   "pygments_lexer": "ipython3",
   "version": "3.8.3"
  },
  "orig_nbformat": 4
 },
 "nbformat": 4,
 "nbformat_minor": 2
}