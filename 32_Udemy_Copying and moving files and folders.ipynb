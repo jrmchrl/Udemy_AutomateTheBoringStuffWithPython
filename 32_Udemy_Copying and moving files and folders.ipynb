{
 "cells": [
  {
   "cell_type": "code",
   "execution_count": null,
   "source": [
    "import shutil\r\n",
    "shutil.copy('c:\\\\spam.txt', 'c:\\\\delicious.txt') #copies doc from one location to another\r\n"
   ],
   "outputs": [],
   "metadata": {}
  },
  {
   "cell_type": "code",
   "execution_count": null,
   "source": [
    "shutil.copy('c:\\\\spam.txt', 'c:\\\\delicious\\\\spamspamspam.txt')"
   ],
   "outputs": [],
   "metadata": {}
  },
  {
   "cell_type": "code",
   "execution_count": null,
   "source": [
    "#other functions: shutil.copytree(), shutil.move()"
   ],
   "outputs": [],
   "metadata": {}
  },
  {
   "cell_type": "code",
   "execution_count": null,
   "source": [
    "#delete files\r\n",
    "\r\n",
    "import os\r\n",
    "os.unlink('bacon.txt') #delete single file"
   ],
   "outputs": [],
   "metadata": {}
  },
  {
   "cell_type": "code",
   "execution_count": null,
   "source": [
    "os.rmdir('c:\\\\delicious') #deletes folder, which must be empty"
   ],
   "outputs": [],
   "metadata": {}
  },
  {
   "cell_type": "code",
   "execution_count": null,
   "source": [
    "import shutil\r\n",
    "shutil.rmtree('c:\\\\delicious') #deletes folder and everything in it  - permanent delete"
   ],
   "outputs": [],
   "metadata": {}
  },
  {
   "cell_type": "code",
   "execution_count": 5,
   "source": [
    "#dry run to safeguard deletion of files\r\n",
    "import os\r\n",
    "\r\n",
    "os.chdir('C:\\\\Users\\Charl\\\\Desktop')\r\n",
    "\r\n",
    "for filename in os.listdir():\r\n",
    "    if filename.endswith('.txt'):\r\n",
    "        #os.unlink(filename)\r\n",
    "        print(filename)"
   ],
   "outputs": [],
   "metadata": {}
  },
  {
   "cell_type": "code",
   "execution_count": null,
   "source": [
    "import send2trash\r\n",
    "send2trash.send2trash('c:\\\\users\\\\charl\\desktop\\\\Filename')"
   ],
   "outputs": [],
   "metadata": {}
  }
 ],
 "metadata": {
  "interpreter": {
   "hash": "483cab17ea47bf3dc62612f79753baa304c994dab11b0cb1ba24b5d79c042b44"
  },
  "kernelspec": {
   "name": "python3",
   "display_name": "Python 3.8.3 64-bit ('base': conda)"
  },
  "language_info": {
   "codemirror_mode": {
    "name": "ipython",
    "version": 3
   },
   "file_extension": ".py",
   "mimetype": "text/x-python",
   "name": "python",
   "nbconvert_exporter": "python",
   "pygments_lexer": "ipython3",
   "version": "3.8.3"
  },
  "orig_nbformat": 4
 },
 "nbformat": 4,
 "nbformat_minor": 2
}