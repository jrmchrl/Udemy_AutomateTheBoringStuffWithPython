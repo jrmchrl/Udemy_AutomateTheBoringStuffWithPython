{
 "cells": [
  {
   "cell_type": "code",
   "execution_count": 2,
   "metadata": {},
   "outputs": [
    {
     "ename": "ModuleNotFoundError",
     "evalue": "No module named 'pyperclip'",
     "output_type": "error",
     "traceback": [
      "\u001b[1;31m---------------------------------------------------------------------------\u001b[0m",
      "\u001b[1;31mModuleNotFoundError\u001b[0m                       Traceback (most recent call last)",
      "\u001b[1;32m~\\AppData\\Local\\Temp/ipykernel_13812/1394246110.py\u001b[0m in \u001b[0;36m<module>\u001b[1;34m\u001b[0m\n\u001b[1;32m----> 1\u001b[1;33m \u001b[1;32mimport\u001b[0m \u001b[0mre\u001b[0m\u001b[1;33m,\u001b[0m \u001b[0mpyperclip\u001b[0m\u001b[1;33m\u001b[0m\u001b[1;33m\u001b[0m\u001b[0m\n\u001b[0m\u001b[0;32m      2\u001b[0m \u001b[1;33m\u001b[0m\u001b[0m\n\u001b[0;32m      3\u001b[0m \u001b[1;31m# Create a regex for phone numbers\u001b[0m\u001b[1;33m\u001b[0m\u001b[1;33m\u001b[0m\u001b[1;33m\u001b[0m\u001b[0m\n\u001b[0;32m      4\u001b[0m \u001b[1;33m\u001b[0m\u001b[0m\n\u001b[0;32m      5\u001b[0m phoneRegex = re.compile(r'''\n",
      "\u001b[1;31mModuleNotFoundError\u001b[0m: No module named 'pyperclip'"
     ]
    }
   ],
   "source": [
    "import re, pyperclip \r\n",
    "\r\n",
    "# Create a regex for phone numbers\r\n",
    "\r\n",
    "phoneRegex = re.compile(r'''\r\n",
    "# 415-555-0000, 555-0000, (415) 555-2356, 555-0000 ext 12345, ext. 12345, x12345\r\n",
    "\r\n",
    "((\\d\\d\\d)|(\\(\\d\\d\\d\\)))?               # area code (optional), remember | means either, or\r\n",
    "(\\s|-)                # first separator\r\n",
    "\\d\\d\\d                # first 3 digits\r\n",
    "-                # separator\r\n",
    "\\d\\d\\d\\d                # last 4 digits\r\n",
    "(((ext(\\.)?\\s)|x)                # exte(nsion (optional)\r\n",
    "(\\d{2,5}))?               # extension number-part (opional)\r\n",
    "''', re.VERBOSE)\r\n",
    "\r\n",
    "# TODO: Create a regex for email addresses\r\n",
    "emailRegex = re.compile(r'''\r\n",
    "# some.+_thing@(\\d{2,5}))?.com\r\n",
    "\r\n",
    "[a-zA-Z0-9_.+]+            # name part\r\n",
    "@            # @ symbol\r\n",
    "[a-zA-Z0-9_.+]+            # domain name part\r\n",
    "\r\n",
    "\r\n",
    "''', re.VERBOSE)\r\n",
    "\r\n",
    "# TODO: Get the text off the clipboard\r\n",
    "text = pyperclip.paste()\r\n",
    "\r\n",
    "# TODO: Extract the email/phone from this text\r\n",
    "extractedPhone = phoneRegex.findall(text)\r\n",
    "extractedEmail = emailRegex.findall(text)\r\n",
    "\r\n",
    "print(extractedPhone)\r\n",
    "print(extractedEmail)\r\n",
    "\r\n",
    "\r\n",
    "# TODO: Copy the extracted email/phone to the clipboard\r\n",
    "\r\n",
    " \r\n",
    "\r\n",
    " "
   ]
  }
 ],
 "metadata": {
  "interpreter": {
   "hash": "59b120fb67dd9d4f98dc627a65a1eeb92475a801272ef48dc40576fbaff0912c"
  },
  "kernelspec": {
   "display_name": "Python 3.9.6 64-bit",
   "name": "python3"
  },
  "language_info": {
   "codemirror_mode": {
    "name": "ipython",
    "version": 3
   },
   "file_extension": ".py",
   "mimetype": "text/x-python",
   "name": "python",
   "nbconvert_exporter": "python",
   "pygments_lexer": "ipython3",
   "version": "3.9.6"
  },
  "orig_nbformat": 4
 },
 "nbformat": 4,
 "nbformat_minor": 2
}