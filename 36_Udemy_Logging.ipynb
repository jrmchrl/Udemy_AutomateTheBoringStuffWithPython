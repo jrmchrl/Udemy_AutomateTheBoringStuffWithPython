{
 "cells": [
  {
   "cell_type": "code",
   "execution_count": 7,
   "source": [
    "import logging \r\n",
    "\r\n",
    "logging.basicConfig(level=logging.DEBUG, format='%(asctime)s - %(levelname)s - %(message)s')\r\n",
    "logging.disable(logging.CRITICAL) #disables all logging messages which sre critical or lower\r\n",
    "\r\n",
    "#there are five debug levels: debug, info, warning, error, critical (highest)\r\n",
    "\r\n",
    "#Buggy factorial program\r\n",
    "\r\n",
    "#we'll use log messages to figure out bugs in\r\n",
    "\r\n",
    "logging.debug('start of program')\r\n",
    "#there is also logging.debug(), .info(), .warning(), .error(), .critical()\r\n",
    "\r\n",
    "def factorial(n):\r\n",
    "    logging.debug('start of factorial(%s)' % (n))\r\n",
    "    total = 1\r\n",
    "    for i in range(1, n + 1):\r\n",
    "        total *= i\r\n",
    "        logging.debug('i is %s, total is %s' % (i, total))\r\n",
    "\r\n",
    "    logging.debug('Return value is %s' % (total))\r\n",
    "    return total\r\n",
    "\r\n",
    "print(factorial(5))\r\n",
    "\r\n",
    "logging.debug('End of program')"
   ],
   "outputs": [
    {
     "output_type": "stream",
     "name": "stdout",
     "text": [
      "120\n"
     ]
    }
   ],
   "metadata": {}
  }
 ],
 "metadata": {
  "interpreter": {
   "hash": "483cab17ea47bf3dc62612f79753baa304c994dab11b0cb1ba24b5d79c042b44"
  },
  "kernelspec": {
   "name": "python3",
   "display_name": "Python 3.8.3 64-bit ('base': conda)"
  },
  "language_info": {
   "codemirror_mode": {
    "name": "ipython",
    "version": 3
   },
   "file_extension": ".py",
   "mimetype": "text/x-python",
   "name": "python",
   "nbconvert_exporter": "python",
   "pygments_lexer": "ipython3",
   "version": "3.8.3"
  },
  "orig_nbformat": 4
 },
 "nbformat": 4,
 "nbformat_minor": 2
}